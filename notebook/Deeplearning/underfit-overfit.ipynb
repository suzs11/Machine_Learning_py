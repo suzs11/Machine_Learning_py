{
 "cells": [
  {
   "cell_type": "code",
   "execution_count": 5,
   "id": "driving-death",
   "metadata": {},
   "outputs": [],
   "source": [
    "from mxnet import ndarray as nd\n",
    "from mxnet import autograd\n",
    "from mxnet import gluon\n",
    "\n",
    "n_train = 100\n",
    "n_test = 100\n",
    "true_w = [1.2 ,-3.4,5.6]\n",
    "true_b = 5.0"
   ]
  },
  {
   "cell_type": "markdown",
   "id": "leading-provision",
   "metadata": {},
   "source": [
    "* 下面生成数据集"
   ]
  },
  {
   "cell_type": "code",
   "execution_count": null,
   "id": "better-letter",
   "metadata": {},
   "outputs": [],
   "source": []
  }
 ],
 "metadata": {
  "kernelspec": {
   "display_name": "Python 3",
   "language": "python",
   "name": "python3"
  },
  "language_info": {
   "codemirror_mode": {
    "name": "ipython",
    "version": 3
   },
   "file_extension": ".py",
   "mimetype": "text/x-python",
   "name": "python",
   "nbconvert_exporter": "python",
   "pygments_lexer": "ipython3",
   "version": "3.6.13"
  }
 },
 "nbformat": 4,
 "nbformat_minor": 5
}
